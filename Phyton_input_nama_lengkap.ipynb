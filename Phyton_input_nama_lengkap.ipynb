{
 "cells": [
  {
   "cell_type": "code",
   "execution_count": 2,
   "id": "96c177de-8ece-406a-9df5-2a5cc15b734f",
   "metadata": {},
   "outputs": [
    {
     "name": "stdin",
     "output_type": "stream",
     "text": [
      "Masukkan Nama Anda :  erista devi fitriani\n"
     ]
    },
    {
     "name": "stdout",
     "output_type": "stream",
     "text": [
      "Jumlah huruf dari nama lengkap Anda adalah: 18\n",
      "Jumlah huruf vocal dari nama lengkap Anda adalah: 9\n",
      "Jumlah huruf konsonan dari nama lengkap Anda adalah: 9\n"
     ]
    }
   ],
   "source": [
    "nama_lengkap = input (\"Masukkan Nama Anda : \")\n",
    "# Menghitung jumlah huruf dari nama lengkap\n",
    "jumlah_huruf = len(nama_lengkap.replace(\" \", \"\"))\n",
    "# Menghitung jumlah huruf vokal dari nama lengkap\n",
    "huruf_vokal = \"aiueoAIUEO\"\n",
    "jumlah_vokal = len ([char for char in nama_lengkap if char in huruf_vokal])\n",
    "# Menghitung jumlah huruf konsonan dari nama_lengkap\n",
    "jumlah_konsonan = jumlah_huruf - jumlah_vokal\n",
    "print(\"Jumlah huruf dari nama lengkap Anda adalah:\", jumlah_huruf)\n",
    "print(\"Jumlah huruf vocal dari nama lengkap Anda adalah:\", jumlah_vokal)\n",
    "print(\"Jumlah huruf konsonan dari nama lengkap Anda adalah:\", jumlah_konsonan)"
   ]
  },
  {
   "cell_type": "code",
   "execution_count": null,
   "id": "6a1ae14b-d9bc-4b5a-856b-83d51a9d901b",
   "metadata": {},
   "outputs": [],
   "source": []
  }
 ],
 "metadata": {
  "kernelspec": {
   "display_name": "anaconda-panel-2023.05-py310",
   "language": "python",
   "name": "conda-env-anaconda-panel-2023.05-py310-py"
  },
  "language_info": {
   "codemirror_mode": {
    "name": "ipython",
    "version": 3
   },
   "file_extension": ".py",
   "mimetype": "text/x-python",
   "name": "python",
   "nbconvert_exporter": "python",
   "pygments_lexer": "ipython3",
   "version": "3.11.5"
  }
 },
 "nbformat": 4,
 "nbformat_minor": 5
}
